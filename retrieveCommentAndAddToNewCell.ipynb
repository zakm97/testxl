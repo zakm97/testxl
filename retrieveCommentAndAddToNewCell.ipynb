{
 "cells": [
  {
   "cell_type": "code",
   "execution_count": 1,
   "metadata": {},
   "outputs": [],
   "source": [
    "from openpyxl import load_workbook\n",
    "import re\n",
    "import os"
   ]
  },
  {
   "cell_type": "code",
   "execution_count": 2,
   "metadata": {},
   "outputs": [],
   "source": [
    "# Charger le fichier Excel\n",
    "file_path = 'C:/Users/zmouiyek/OneDrive - AMILTONE/Bureau/test_excel/StudentPerformanceFactors.xlsx'\n",
    "wb = load_workbook(file_path)\n",
    "\n"
   ]
  },
  {
   "cell_type": "code",
   "execution_count": null,
   "metadata": {},
   "outputs": [],
   "source": [
    "# Parcourir chaque feuille du fichier\n",
    "for sheet in wb.worksheets:\n",
    "    # Trouver l'index de la dernière colonne\n",
    "    last_column = sheet.max_column\n",
    "\n",
    "    # Ajouter une nouvelle colonne nommée 'commentaire_recuperee'\n",
    "    sheet.cell(row=1, column=last_column + 1).value = 'commentaire_recuperee'\n",
    "\n",
    "    # Parcourir les cellules de la première colonne pour récupérer les commentaires\n",
    "    for row in sheet.iter_rows(min_row=2, max_col=1, max_row=sheet.max_row):\n",
    "        for cell in row:\n",
    "            commentaire = cell.comment\n",
    "            if commentaire:\n",
    "                # Utiliser une expression régulière pour extraire le texte après \"Commentaire :\"\n",
    "                match = re.search(r'Commentaire\\s*:\\s*(.*)', commentaire.text, re.DOTALL)\n",
    "                if match:\n",
    "                    commentaire_texte = match.group(1).strip()\n",
    "                else:\n",
    "                    commentaire_texte = commentaire.text.strip()\n",
    "                \n",
    "                # Ajouter le commentaire dans la nouvelle colonne (dernière colonne + 1)\n",
    "                sheet.cell(row=cell.row, column=last_column + 1).value = commentaire_texte\n",
    "            else:\n",
    "                # Mettre une valeur vide si pas de commentaire\n",
    "                sheet.cell(row=cell.row, column=last_column + 1).value = \"\"\n",
    "\n",
    "# Sauvegarder le fichier en écrasant l'original\n",
    "wb.save(file_path)\n",
    "\n",
    "print(\"Les commentaires ont été récupérés et nettoyés dans une nouvelle colonne à la fin de chaque feuille.\")"
   ]
  }
 ],
 "metadata": {
  "kernelspec": {
   "display_name": "Python 3",
   "language": "python",
   "name": "python3"
  },
  "language_info": {
   "codemirror_mode": {
    "name": "ipython",
    "version": 3
   },
   "file_extension": ".py",
   "mimetype": "text/x-python",
   "name": "python",
   "nbconvert_exporter": "python",
   "pygments_lexer": "ipython3",
   "version": "3.12.3"
  }
 },
 "nbformat": 4,
 "nbformat_minor": 2
}
